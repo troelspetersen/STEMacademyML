{
 "cells": [
  {
   "cell_type": "code",
   "execution_count": null,
   "id": "c73e3e0f",
   "metadata": {},
   "outputs": [],
   "source": [
    "# Display column names of the dataset\n",
    "print(\"Column names:\")\n",
    "print(df.columns.tolist())\n",
    "\n",
    "# Count the number of columns with categorical values\n",
    "categorical_columns = df.select_dtypes(include=['object']).columns\n",
    "print(f\"Number of categorical columns: {len(categorical_columns)}\")\n",
    "print(\"Categorical columns:\", categorical_columns.tolist())"
   ]
  }
 ],
 "metadata": {
  "language_info": {
   "name": "python"
  }
 },
 "nbformat": 4,
 "nbformat_minor": 5
}
