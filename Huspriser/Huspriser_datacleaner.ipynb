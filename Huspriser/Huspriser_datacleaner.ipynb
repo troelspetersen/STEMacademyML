{
 "cells": [
  {
   "cell_type": "markdown",
   "id": "0a4f7a01",
   "metadata": {},
   "source": [
    "# Huspriser data cleaner"
   ]
  },
  {
   "cell_type": "code",
   "execution_count": 43,
   "id": "6907f4dc",
   "metadata": {},
   "outputs": [],
   "source": [
    "# importer pakker\n",
    "import numpy as np\n",
    "import pandas as pd"
   ]
  },
  {
   "cell_type": "code",
   "execution_count": 44,
   "id": "b5739164",
   "metadata": {},
   "outputs": [
    {
     "name": "stderr",
     "output_type": "stream",
     "text": [
      "/var/folders/cv/4hkgm9gn1dv2hp0k2jlt7qrm0000gn/T/ipykernel_2537/1922117324.py:2: DtypeWarning: Columns (31,49,51) have mixed types. Specify dtype option on import or set low_memory=False.\n",
      "  data = pd.read_csv('HousingPrices_original.csv', sep=';')\n"
     ]
    }
   ],
   "source": [
    "# importer data\n",
    "data = pd.read_csv('HousingPrices_original.csv', sep=';')"
   ]
  },
  {
   "cell_type": "code",
   "execution_count": 45,
   "id": "e555e447",
   "metadata": {},
   "outputs": [],
   "source": [
    "keep_and_rename = {\n",
    "     'MI_OBJ_OIS_POSTAL_CODE': 'Postnummer',\n",
    "     'MI_OBJ_OIS_HOUSE_NUMBER': 'Husnummer',\n",
    "     'MI_OBJ_OIS_SIZE_OF_HOUSE': 'Kvadratmeter',\n",
    "     'MI_OBJ_OIS_SIZE_OF_PLOT': 'Grundareal',\n",
    "     'MI_OBJ_OIS_CONSTRUCTION_YEAR': 'Byggeår',\n",
    "     'SCHOOL_DISTANCE_1': 'Afstand_skole',\n",
    "     'SUPERMARKET_DISTANCE_1': 'Afstand_supermarked',\n",
    "     'KOEBESUM_BELOEB': 'Salgspris'\n",
    "     #'MI_OBJ_OIS_FLOOR_NUMBER': 'Etage'\n",
    "}\n"
   ]
  },
  {
   "cell_type": "code",
   "execution_count": 46,
   "id": "eb6482de",
   "metadata": {},
   "outputs": [
    {
     "name": "stdout",
     "output_type": "stream",
     "text": [
      "datapoints: 49289\n"
     ]
    }
   ],
   "source": [
    "existing = {old: new for old, new in keep_and_rename.items() if old in data.columns}\n",
    "missing  = [old for old in keep_and_rename if old not in data.columns]\n",
    "\n",
    "subset = data[list(existing.keys())].rename(columns=existing)\n",
    "print(f'datapoints: {len(subset)}')"
   ]
  },
  {
   "cell_type": "code",
   "execution_count": 47,
   "id": "b4570ffc",
   "metadata": {},
   "outputs": [],
   "source": [
    "# Lav en kolonne med \"Type\", der inddeler i om der er en etage skrevet på, som indikerer at det er en lejlighed og ikke et hus.\n",
    "# 0 for lejlighed (dvs når der står noget på \"etage\") og 1 for hus (Når der ikke står noget i \"etage\"))\n",
    "#subset['Type'] = pd.Series([pd.NA] * len(subset), dtype='Int64')\n",
    "#mask = subset['Etage'].notna() & subset['Etage'].astype(str).str.strip().ne('')\n",
    "#subset['Type'] = np.where(mask, 0, 1)  \n",
    "#subset = subset.drop(columns=['Etage'])"
   ]
  },
  {
   "cell_type": "code",
   "execution_count": 48,
   "id": "92795b30",
   "metadata": {},
   "outputs": [
    {
     "name": "stdout",
     "output_type": "stream",
     "text": [
      "datapoints: 48709\n",
      "10000000\n"
     ]
    },
    {
     "data": {
      "text/plain": [
       "Kvadratmeter             0\n",
       "Salgspris                0\n",
       "Husnummer                4\n",
       "Grundareal               4\n",
       "Postnummer              18\n",
       "Afstand_skole           35\n",
       "Afstand_supermarked     35\n",
       "Byggeår                992\n",
       "dtype: int64"
      ]
     },
     "execution_count": 48,
     "metadata": {},
     "output_type": "execute_result"
    }
   ],
   "source": [
    "# Fjern alle over 10 mio\n",
    "\n",
    "subset = subset[subset['Salgspris'].le(10_000_000)]\n",
    "print(f'datapoints: {len(subset)}')\n",
    "print(np.max(subset['Salgspris']))\n",
    "subset.isna().sum().sort_values(ascending=True)\n"
   ]
  },
  {
   "cell_type": "code",
   "execution_count": 49,
   "id": "ed16b2f1",
   "metadata": {},
   "outputs": [
    {
     "name": "stdout",
     "output_type": "stream",
     "text": [
      "datapoints: 47703\n"
     ]
    }
   ],
   "source": [
    "# Fjerner alle rækker med NaN\n",
    "\n",
    "data_no_na = subset.dropna()  \n",
    "data_no_na = data_no_na.drop(index=42232) # Removed this point because NN had a lot of trouble with it\n",
    "data_no_na = data_no_na.drop(index=21081)\n",
    "data_no_na = data_no_na.drop(index=21080)\n",
    "data_no_na = data_no_na.drop(index=22832)\n",
    "data_no_na = data_no_na.drop(index=31254)\n",
    "print(f'datapoints: {len(data_no_na)}')      \n",
    "\n"
   ]
  },
  {
   "cell_type": "code",
   "execution_count": 50,
   "id": "a5e3765c",
   "metadata": {},
   "outputs": [
    {
     "data": {
      "text/plain": [
       "Postnummer             0\n",
       "Husnummer              0\n",
       "Kvadratmeter           0\n",
       "Grundareal             0\n",
       "Byggeår                0\n",
       "Afstand_skole          0\n",
       "Afstand_supermarked    0\n",
       "Salgspris              0\n",
       "dtype: int64"
      ]
     },
     "execution_count": 50,
     "metadata": {},
     "output_type": "execute_result"
    }
   ],
   "source": [
    "data_no_na.to_csv('HousingPrices_selected.csv', index=False)  \n",
    "data_no_na.isna().sum().sort_values(ascending=True)  "
   ]
  },
  {
   "cell_type": "markdown",
   "id": "1d77884a",
   "metadata": {},
   "source": [
    "#"
   ]
  }
 ],
 "metadata": {
  "kernelspec": {
   "display_name": "MLStemAcademy",
   "language": "python",
   "name": "python3"
  },
  "language_info": {
   "codemirror_mode": {
    "name": "ipython",
    "version": 3
   },
   "file_extension": ".py",
   "mimetype": "text/x-python",
   "name": "python",
   "nbconvert_exporter": "python",
   "pygments_lexer": "ipython3",
   "version": "3.11.13"
  }
 },
 "nbformat": 4,
 "nbformat_minor": 5
}
