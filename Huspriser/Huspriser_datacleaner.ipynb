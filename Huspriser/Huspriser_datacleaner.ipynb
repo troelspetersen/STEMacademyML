{
 "cells": [
  {
   "cell_type": "markdown",
   "id": "0a4f7a01",
   "metadata": {},
   "source": [
    "# Huspriser data cleaner"
   ]
  },
  {
   "cell_type": "code",
   "execution_count": null,
   "id": "6907f4dc",
   "metadata": {},
   "outputs": [],
   "source": [
    "# importer pakker\n",
    "import numpy as np\n",
    "import pandas as pd\n",
    "\n",
    "# Max 10 mio"
   ]
  },
  {
   "cell_type": "code",
   "execution_count": 87,
   "id": "b5739164",
   "metadata": {},
   "outputs": [
    {
     "name": "stderr",
     "output_type": "stream",
     "text": [
      "/var/folders/cv/4hkgm9gn1dv2hp0k2jlt7qrm0000gn/T/ipykernel_4651/1922117324.py:2: DtypeWarning: Columns (31,49,51) have mixed types. Specify dtype option on import or set low_memory=False.\n",
      "  data = pd.read_csv('HousingPrices_original.csv', sep=';')\n"
     ]
    }
   ],
   "source": [
    "# importer data\n",
    "data = pd.read_csv('HousingPrices_original.csv', sep=';')"
   ]
  },
  {
   "cell_type": "code",
   "execution_count": 88,
   "id": "e555e447",
   "metadata": {},
   "outputs": [],
   "source": [
    "keep_and_rename = {\n",
    "     'MI_OBJ_OIS_POSTAL_CODE': 'Postnummer',\n",
    "     'MI_OBJ_OIS_HOUSE_NUMBER': 'Husnummer',\n",
    "     'MI_OBJ_OIS_SIZE_OF_HOUSE': 'kvadratmeter',\n",
    "     'MI_OBJ_OIS_SIZE_OF_PLOT': 'Grundareal',\n",
    "     'MI_OBJ_OIS_CONSTRUCTION_YEAR': 'Byggeår',\n",
    "     'SCHOOL_DISTANCE_1': 'afstand_skole',\n",
    "     'SUPERMARKET_DISTANCE_1': 'afstand_supermarked',\n",
    "     'KOEBESUM_BELOEB': 'Salgspris',\n",
    "}\n"
   ]
  },
  {
   "cell_type": "code",
   "execution_count": 89,
   "id": "eb6482de",
   "metadata": {},
   "outputs": [
    {
     "name": "stderr",
     "output_type": "stream",
     "text": [
      "/var/folders/cv/4hkgm9gn1dv2hp0k2jlt7qrm0000gn/T/ipykernel_4651/2461327743.py:5: FutureWarning: In a future version of pandas all arguments of Series.sort_values will be keyword-only.\n",
      "  subset.isna().sum().sort_values(False)\n"
     ]
    },
    {
     "data": {
      "text/plain": [
       "kvadratmeter              0\n",
       "Salgspris                 0\n",
       "Husnummer                 4\n",
       "Grundareal                4\n",
       "Postnummer               19\n",
       "afstand_skole            37\n",
       "afstand_supermarked      37\n",
       "Byggeår                1024\n",
       "dtype: int64"
      ]
     },
     "execution_count": 89,
     "metadata": {},
     "output_type": "execute_result"
    }
   ],
   "source": [
    "existing = {old: new for old, new in keep_and_rename.items() if old in data.columns}\n",
    "missing  = [old for old in keep_and_rename if old not in data.columns]\n",
    "\n",
    "subset = data[list(existing.keys())].rename(columns=existing)\n",
    "subset.isna().sum().sort_values(False)"
   ]
  },
  {
   "cell_type": "code",
   "execution_count": 90,
   "id": "ed16b2f1",
   "metadata": {},
   "outputs": [
    {
     "name": "stderr",
     "output_type": "stream",
     "text": [
      "/var/folders/cv/4hkgm9gn1dv2hp0k2jlt7qrm0000gn/T/ipykernel_4651/2844313354.py:3: FutureWarning: In a future version of pandas all arguments of Series.sort_values will be keyword-only.\n",
      "  data_no_na.isna().sum().sort_values(False)\n"
     ]
    },
    {
     "data": {
      "text/plain": [
       "Postnummer             0\n",
       "Husnummer              0\n",
       "kvadratmeter           0\n",
       "Grundareal             0\n",
       "Byggeår                0\n",
       "afstand_skole          0\n",
       "afstand_supermarked    0\n",
       "Salgspris              0\n",
       "dtype: int64"
      ]
     },
     "execution_count": 90,
     "metadata": {},
     "output_type": "execute_result"
    }
   ],
   "source": [
    "data_no_na = subset.dropna()                  \n",
    "data_no_na.to_csv('HousingPrices_selected.csv', index=False)  \n",
    "data_no_na.isna().sum().sort_values(False)  "
   ]
  },
  {
   "cell_type": "markdown",
   "id": "1d77884a",
   "metadata": {},
   "source": [
    "#"
   ]
  }
 ],
 "metadata": {
  "kernelspec": {
   "display_name": "base",
   "language": "python",
   "name": "python3"
  },
  "language_info": {
   "codemirror_mode": {
    "name": "ipython",
    "version": 3
   },
   "file_extension": ".py",
   "mimetype": "text/x-python",
   "name": "python",
   "nbconvert_exporter": "python",
   "pygments_lexer": "ipython3",
   "version": "3.9.13"
  }
 },
 "nbformat": 4,
 "nbformat_minor": 5
}
