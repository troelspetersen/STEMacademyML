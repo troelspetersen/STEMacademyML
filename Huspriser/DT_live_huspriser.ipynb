{
 "cells": [
  {
   "cell_type": "markdown",
   "id": "6a13bdf2",
   "metadata": {},
   "source": [
    "# Decision trees"
   ]
  },
  {
   "cell_type": "markdown",
   "id": "b0eecc81",
   "metadata": {},
   "source": [
    "Noter til diskussion\n",
    "- skal vi lave en train split, så vi i bunden også kan vise hvor god træet er til at forudsige?"
   ]
  },
  {
   "cell_type": "code",
   "execution_count": 9,
   "id": "cf99caa9",
   "metadata": {},
   "outputs": [],
   "source": [
    "# Importer pakker der skal bruges\n",
    "from sklearn.tree import DecisionTreeRegressor, export_graphviz\n",
    "from sklearn import tree\n",
    "from IPython.display import SVG\n",
    "from graphviz import Source\n",
    "from IPython.display import display\n",
    "import pandas as pd"
   ]
  },
  {
   "cell_type": "markdown",
   "id": "bfa65ec9",
   "metadata": {},
   "source": [
    "## Inspicer dataen"
   ]
  },
  {
   "cell_type": "code",
   "execution_count": 10,
   "id": "5a702ba8",
   "metadata": {},
   "outputs": [
    {
     "name": "stdout",
     "output_type": "stream",
     "text": [
      "   Postnummer  Husnummer  kvadratmeter  Grundareal  Byggeår  afstand_skole  \\\n",
      "0      4953.0        9.0            97       949.0   1942.0        5425.42   \n",
      "1      2300.0       12.0            86         0.0   2006.0        1045.23   \n",
      "2      2300.0       12.0            86         0.0   2006.0        1045.23   \n",
      "3      2300.0       16.0            95         0.0   2007.0        1017.53   \n",
      "4      2300.0       18.0            73         0.0   2007.0        1004.49   \n",
      "\n",
      "   afstand_supermarked  Salgspris  \n",
      "0              5551.78    1050000  \n",
      "1               132.97    1352500  \n",
      "2               132.97    3500000  \n",
      "3               153.93    3463432  \n",
      "4               166.23    2700000  \n"
     ]
    }
   ],
   "source": [
    "# importer data fra csv-fil (excel)\n",
    "data = pd.read_csv('HousingPrices_selected.csv', sep=',')\n",
    "\n",
    "# print første 5 rækker data\n",
    "print(data.head(5))"
   ]
  },
  {
   "cell_type": "markdown",
   "id": "92df709f",
   "metadata": {},
   "source": [
    "## Parameter"
   ]
  },
  {
   "cell_type": "code",
   "execution_count": 11,
   "id": "2c2f33eb",
   "metadata": {},
   "outputs": [],
   "source": [
    "forudsig = 'Salgspris' # Hvilken parameter vi gerne vil forudsige i vores data\n",
    "lag = 2                # Hvor mange lag der er i træet"
   ]
  },
  {
   "cell_type": "code",
   "execution_count": null,
   "id": "be642bea",
   "metadata": {},
   "outputs": [
    {
     "name": "stdout",
     "output_type": "stream",
     "text": [
      "Max dybde af træet: 2\n"
     ]
    },
    {
     "data": {
      "image/svg+xml": [
       "<svg xmlns=\"http://www.w3.org/2000/svg\" xmlns:xlink=\"http://www.w3.org/1999/xlink\" width=\"1038pt\" height=\"269pt\" viewBox=\"0.00 0.00 1038.25 269.00\">\n",
       "<g id=\"graph0\" class=\"graph\" transform=\"scale(1 1) rotate(0) translate(4 265)\">\n",
       "<title>Tree</title>\n",
       "<polygon fill=\"white\" stroke=\"none\" points=\"-4,4 -4,-265 1034.25,-265 1034.25,4 -4,4\"/>\n",
       "<!-- 0 -->\n",
       "<g id=\"node1\" class=\"node\">\n",
       "<title>0</title>\n",
       "<polygon fill=\"#ffffff\" stroke=\"black\" points=\"639,-261 391.25,-261 391.25,-193 639,-193 639,-261\"/>\n",
       "<text text-anchor=\"middle\" x=\"515.12\" y=\"-243.7\" font-family=\"Helvetica,sans-Serif\" font-size=\"14.00\">kvadratmeter &lt;= 846.0</text>\n",
       "<text text-anchor=\"middle\" x=\"515.12\" y=\"-228.7\" font-family=\"Helvetica,sans-Serif\" font-size=\"14.00\">squared_error = 35491594838804.836</text>\n",
       "<text text-anchor=\"middle\" x=\"515.12\" y=\"-213.7\" font-family=\"Helvetica,sans-Serif\" font-size=\"14.00\">samples = 48255</text>\n",
       "<text text-anchor=\"middle\" x=\"515.12\" y=\"-198.7\" font-family=\"Helvetica,sans-Serif\" font-size=\"14.00\">value = 2208564.642</text>\n",
       "</g>\n",
       "<!-- 1 -->\n",
       "<g id=\"node2\" class=\"node\">\n",
       "<title>1</title>\n",
       "<polygon fill=\"#ffffff\" stroke=\"black\" points=\"506,-157 258.25,-157 258.25,-89 506,-89 506,-157\"/>\n",
       "<text text-anchor=\"middle\" x=\"382.12\" y=\"-139.7\" font-family=\"Helvetica,sans-Serif\" font-size=\"14.00\">kvadratmeter &lt;= 0.5</text>\n",
       "<text text-anchor=\"middle\" x=\"382.12\" y=\"-124.7\" font-family=\"Helvetica,sans-Serif\" font-size=\"14.00\">squared_error = 31715321169664.977</text>\n",
       "<text text-anchor=\"middle\" x=\"382.12\" y=\"-109.7\" font-family=\"Helvetica,sans-Serif\" font-size=\"14.00\">samples = 48198</text>\n",
       "<text text-anchor=\"middle\" x=\"382.12\" y=\"-94.7\" font-family=\"Helvetica,sans-Serif\" font-size=\"14.00\">value = 2167857.389</text>\n",
       "</g>\n",
       "<!-- 0&#45;&gt;1 -->\n",
       "<g id=\"edge1\" class=\"edge\">\n",
       "<title>0-&gt;1</title>\n",
       "<path fill=\"none\" stroke=\"black\" d=\"M471.58,-192.6C459.75,-183.53 446.82,-173.61 434.56,-164.21\"/>\n",
       "<polygon fill=\"black\" stroke=\"black\" points=\"437.04,-161.7 426.97,-158.39 432.78,-167.26 437.04,-161.7\"/>\n",
       "<text text-anchor=\"middle\" x=\"429.04\" y=\"-176.46\" font-family=\"Helvetica,sans-Serif\" font-size=\"14.00\">True</text>\n",
       "</g>\n",
       "<!-- 4 -->\n",
       "<g id=\"node5\" class=\"node\">\n",
       "<title>4</title>\n",
       "<polygon fill=\"#f4c9aa\" stroke=\"black\" points=\"772,-157 524.25,-157 524.25,-89 772,-89 772,-157\"/>\n",
       "<text text-anchor=\"middle\" x=\"648.12\" y=\"-139.7\" font-family=\"Helvetica,sans-Serif\" font-size=\"14.00\">Postnummer &lt;= 1742.0</text>\n",
       "<text text-anchor=\"middle\" x=\"648.12\" y=\"-124.7\" font-family=\"Helvetica,sans-Serif\" font-size=\"14.00\">squared_error = 2042409176034218.2</text>\n",
       "<text text-anchor=\"middle\" x=\"648.12\" y=\"-109.7\" font-family=\"Helvetica,sans-Serif\" font-size=\"14.00\">samples = 57</text>\n",
       "<text text-anchor=\"middle\" x=\"648.12\" y=\"-94.7\" font-family=\"Helvetica,sans-Serif\" font-size=\"14.00\">value = 36629760.737</text>\n",
       "</g>\n",
       "<!-- 0&#45;&gt;4 -->\n",
       "<g id=\"edge4\" class=\"edge\">\n",
       "<title>0-&gt;4</title>\n",
       "<path fill=\"none\" stroke=\"black\" d=\"M558.67,-192.6C570.5,-183.53 583.43,-173.61 595.69,-164.21\"/>\n",
       "<polygon fill=\"black\" stroke=\"black\" points=\"597.47,-167.26 603.28,-158.39 593.21,-161.7 597.47,-167.26\"/>\n",
       "<text text-anchor=\"middle\" x=\"601.21\" y=\"-176.46\" font-family=\"Helvetica,sans-Serif\" font-size=\"14.00\">False</text>\n",
       "</g>\n",
       "<!-- 2 -->\n",
       "<g id=\"node3\" class=\"node\">\n",
       "<title>2</title>\n",
       "<polygon fill=\"#fdf6f1\" stroke=\"black\" points=\"240.25,-53 0,-53 0,0 240.25,0 240.25,-53\"/>\n",
       "<text text-anchor=\"middle\" x=\"120.12\" y=\"-35.7\" font-family=\"Helvetica,sans-Serif\" font-size=\"14.00\">squared_error = 722255184374803.6</text>\n",
       "<text text-anchor=\"middle\" x=\"120.12\" y=\"-20.7\" font-family=\"Helvetica,sans-Serif\" font-size=\"14.00\">samples = 1268</text>\n",
       "<text text-anchor=\"middle\" x=\"120.12\" y=\"-5.7\" font-family=\"Helvetica,sans-Serif\" font-size=\"14.00\">value = 7813929.305</text>\n",
       "</g>\n",
       "<!-- 1&#45;&gt;2 -->\n",
       "<g id=\"edge2\" class=\"edge\">\n",
       "<title>1-&gt;2</title>\n",
       "<path fill=\"none\" stroke=\"black\" d=\"M289.38,-88.55C261.18,-78.38 230.39,-67.27 202.89,-57.35\"/>\n",
       "<polygon fill=\"black\" stroke=\"black\" points=\"204.15,-54.09 193.56,-53.99 201.77,-60.67 204.15,-54.09\"/>\n",
       "</g>\n",
       "<!-- 3 -->\n",
       "<g id=\"node4\" class=\"node\">\n",
       "<title>3</title>\n",
       "<polygon fill=\"#ffffff\" stroke=\"black\" points=\"506,-53 258.25,-53 258.25,0 506,0 506,-53\"/>\n",
       "<text text-anchor=\"middle\" x=\"382.12\" y=\"-35.7\" font-family=\"Helvetica,sans-Serif\" font-size=\"14.00\">squared_error = 12173063357732.312</text>\n",
       "<text text-anchor=\"middle\" x=\"382.12\" y=\"-20.7\" font-family=\"Helvetica,sans-Serif\" font-size=\"14.00\">samples = 46930</text>\n",
       "<text text-anchor=\"middle\" x=\"382.12\" y=\"-5.7\" font-family=\"Helvetica,sans-Serif\" font-size=\"14.00\">value = 2015306.373</text>\n",
       "</g>\n",
       "<!-- 1&#45;&gt;3 -->\n",
       "<g id=\"edge3\" class=\"edge\">\n",
       "<title>1-&gt;3</title>\n",
       "<path fill=\"none\" stroke=\"black\" d=\"M382.12,-88.68C382.12,-80.99 382.12,-72.76 382.12,-64.9\"/>\n",
       "<polygon fill=\"black\" stroke=\"black\" points=\"385.63,-64.91 382.13,-54.91 378.63,-64.91 385.63,-64.91\"/>\n",
       "</g>\n",
       "<!-- 5 -->\n",
       "<g id=\"node6\" class=\"node\">\n",
       "<title>5</title>\n",
       "<polygon fill=\"#e58139\" stroke=\"black\" points=\"772,-53 524.25,-53 524.25,0 772,0 772,-53\"/>\n",
       "<text text-anchor=\"middle\" x=\"648.12\" y=\"-35.7\" font-family=\"Helvetica,sans-Serif\" font-size=\"14.00\">squared_error = 6018273395061728.0</text>\n",
       "<text text-anchor=\"middle\" x=\"648.12\" y=\"-20.7\" font-family=\"Helvetica,sans-Serif\" font-size=\"14.00\">samples = 9</text>\n",
       "<text text-anchor=\"middle\" x=\"648.12\" y=\"-5.7\" font-family=\"Helvetica,sans-Serif\" font-size=\"14.00\">value = 82652777.778</text>\n",
       "</g>\n",
       "<!-- 4&#45;&gt;5 -->\n",
       "<g id=\"edge5\" class=\"edge\">\n",
       "<title>4-&gt;5</title>\n",
       "<path fill=\"none\" stroke=\"black\" d=\"M648.12,-88.68C648.12,-80.99 648.12,-72.76 648.12,-64.9\"/>\n",
       "<polygon fill=\"black\" stroke=\"black\" points=\"651.63,-64.91 648.13,-54.91 644.63,-64.91 651.63,-64.91\"/>\n",
       "</g>\n",
       "<!-- 6 -->\n",
       "<g id=\"node7\" class=\"node\">\n",
       "<title>6</title>\n",
       "<polygon fill=\"#f7d6bf\" stroke=\"black\" points=\"1030.25,-53 790,-53 790,0 1030.25,0 1030.25,-53\"/>\n",
       "<text text-anchor=\"middle\" x=\"910.12\" y=\"-35.7\" font-family=\"Helvetica,sans-Serif\" font-size=\"14.00\">squared_error = 825322402307701.8</text>\n",
       "<text text-anchor=\"middle\" x=\"910.12\" y=\"-20.7\" font-family=\"Helvetica,sans-Serif\" font-size=\"14.00\">samples = 48</text>\n",
       "<text text-anchor=\"middle\" x=\"910.12\" y=\"-5.7\" font-family=\"Helvetica,sans-Serif\" font-size=\"14.00\">value = 28000445.042</text>\n",
       "</g>\n",
       "<!-- 4&#45;&gt;6 -->\n",
       "<g id=\"edge6\" class=\"edge\">\n",
       "<title>4-&gt;6</title>\n",
       "<path fill=\"none\" stroke=\"black\" d=\"M740.87,-88.55C769.07,-78.38 799.86,-67.27 827.36,-57.35\"/>\n",
       "<polygon fill=\"black\" stroke=\"black\" points=\"828.48,-60.67 836.69,-53.99 826.1,-54.09 828.48,-60.67\"/>\n",
       "</g>\n",
       "</g>\n",
       "</svg>"
      ],
      "text/plain": [
       "<IPython.core.display.SVG object>"
      ]
     },
     "metadata": {},
     "output_type": "display_data"
    }
   ],
   "source": [
    "# Deler dataen op i det vi gerne vil lære at forudsige (truth_data) og resten (input_data)\n",
    "variabler       = data.columns\n",
    "input_variabler = variabler[(variabler != forudsig)]\n",
    "input_data      = data[input_variabler]\n",
    "truth_data      = data[forudsig]\n",
    "\n",
    "X = input_data\n",
    "y = truth_data\n",
    "\n",
    "# Navn på parametre\n",
    "labels = input_data.columns\n",
    "\n",
    "# Her bliver modellen trænet på data\n",
    "estimator = DecisionTreeRegressor(\n",
    "   max_depth=lag,                        # Hvor mange lag der højest må være - Hvor mange spørgsmål må der stilles ud af en gren\n",
    "   random_state=42                       # Gør at vi får det samme \"tilfældige\" træ hver gang\n",
    "   )\n",
    "estimator.fit(X, y)\n",
    "\n",
    "# laver visuel graf af træet\n",
    "graph = Source(tree.export_graphviz(estimator, out_file=None,\n",
    "   feature_names=labels,              # Labels bliver brugt som overskrifter\n",
    "   filled=True,                       # Farver noder efter pris - højere pris, mørkere farve\n",
    "   max_depth=4))                      # Hvor mange lag den skal vise i grafen\n",
    "\n",
    "print(\"Max dybde af træet:\", estimator.get_depth()) \n",
    "display(SVG(graph.pipe(format='svg')))\n"
   ]
  },
  {
   "cell_type": "markdown",
   "id": "16b52f21",
   "metadata": {},
   "source": [
    "### Ideer til at lege rundt med koden\n",
    "\n",
    "- Inspicer træet. Prøv at ændre på hvor mange lag der er i træet. \n",
    "- Kan du ud fra træet sige hvilke parametre der betyder mest for prisen? Hvilke betyder mindst?\n",
    "- Prøv at træne træet på en anden parameter ved at ændre \"forudsig\" - Er nogen parameter nemmere at forudsige end andre? Hvorfor?"
   ]
  },
  {
   "cell_type": "code",
   "execution_count": null,
   "id": "c63d3692",
   "metadata": {},
   "outputs": [],
   "source": []
  }
 ],
 "metadata": {
  "kernelspec": {
   "display_name": "MLStemAcademy",
   "language": "python",
   "name": "python3"
  },
  "language_info": {
   "codemirror_mode": {
    "name": "ipython",
    "version": 3
   },
   "file_extension": ".py",
   "mimetype": "text/x-python",
   "name": "python",
   "nbconvert_exporter": "python",
   "pygments_lexer": "ipython3",
   "version": "3.11.13"
  }
 },
 "nbformat": 4,
 "nbformat_minor": 5
}
