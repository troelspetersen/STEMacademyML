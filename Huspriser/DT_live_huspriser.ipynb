{
 "cells": [
  {
   "cell_type": "markdown",
   "id": "6a13bdf2",
   "metadata": {},
   "source": [
    "# Decision trees"
   ]
  },
  {
   "cell_type": "markdown",
   "id": "b0eecc81",
   "metadata": {},
   "source": [
    "Noter til diskussion\n",
    "- skal vi lave en train split, så vi i bunden også kan vise hvor god træet er til at forudsige?\n",
    "- prøv lejlighed eller hus ud fra dør (TV, TH)\n",
    "- slå koderne sammen - lav en True/False efter hvilken type vi kører, BDT eller NN\n",
    "- lav function til at plotte så den kun kører en gang"
   ]
  },
  {
   "cell_type": "code",
   "execution_count": 13,
   "id": "cf99caa9",
   "metadata": {},
   "outputs": [],
   "source": [
    "# Importer pakker der skal bruges\n",
    "from sklearn.tree import DecisionTreeRegressor, export_graphviz\n",
    "from sklearn import tree\n",
    "from IPython.display import SVG\n",
    "from graphviz import Source\n",
    "from IPython.display import display\n",
    "import pandas as pd\n",
    "pd.set_option('display.expand_frame_repr', False)"
   ]
  },
  {
   "cell_type": "markdown",
   "id": "bfa65ec9",
   "metadata": {},
   "source": [
    "## Inspicer dataen\n",
    "\n",
    "Først vil vi gerne undersøge hvilken data vi har med at gøre. "
   ]
  },
  {
   "cell_type": "code",
   "execution_count": 14,
   "id": "5a702ba8",
   "metadata": {},
   "outputs": [
    {
     "name": "stdout",
     "output_type": "stream",
     "text": [
      "   Postnummer  Husnummer  kvadratmeter  Grundareal  Byggeår  afstand_skole  afstand_supermarked  Salgspris\n",
      "0      4953.0        9.0            97       949.0   1942.0        5425.42              5551.78    1050000\n",
      "1      2300.0       12.0            86         0.0   2006.0        1045.23               132.97    1352500\n",
      "2      2300.0       12.0            86         0.0   2006.0        1045.23               132.97    3500000\n",
      "3      2300.0       16.0            95         0.0   2007.0        1017.53               153.93    3463432\n",
      "4      2300.0       18.0            73         0.0   2007.0        1004.49               166.23    2700000\n"
     ]
    }
   ],
   "source": [
    "# importer data fra csv-fil (excel)\n",
    "data = pd.read_csv('HousingPrices_selected.csv', sep=',')\n",
    "\n",
    "# print første 5 rækker data\n",
    "print(data.head(5))"
   ]
  },
  {
   "cell_type": "markdown",
   "id": "92df709f",
   "metadata": {},
   "source": [
    "## Parameter"
   ]
  },
  {
   "cell_type": "code",
   "execution_count": null,
   "id": "2c2f33eb",
   "metadata": {},
   "outputs": [],
   "source": [
    "\n",
    "\n",
    "forudsig = 'Salgspris'      # Hvilken parameter vi gerne vil forudsige i vores data\n",
    "\n",
    "\n",
    "DT_N_lag = 2                # Hvor mange lag der er i træet"
   ]
  },
  {
   "cell_type": "code",
   "execution_count": 16,
   "id": "be642bea",
   "metadata": {},
   "outputs": [
    {
     "name": "stdout",
     "output_type": "stream",
     "text": [
      "Max dybde af træet: 2\n"
     ]
    },
    {
     "data": {
      "image/svg+xml": [
       "<svg xmlns=\"http://www.w3.org/2000/svg\" xmlns:xlink=\"http://www.w3.org/1999/xlink\" width=\"1010pt\" height=\"269pt\" viewBox=\"0.00 0.00 1009.50 269.00\">\n",
       "<g id=\"graph0\" class=\"graph\" transform=\"scale(1 1) rotate(0) translate(4 265)\">\n",
       "<title>Tree</title>\n",
       "<polygon fill=\"white\" stroke=\"none\" points=\"-4,4 -4,-265 1005.5,-265 1005.5,4 -4,4\"/>\n",
       "<!-- 0 -->\n",
       "<g id=\"node1\" class=\"node\">\n",
       "<title>0</title>\n",
       "<polygon fill=\"#f8dcc9\" stroke=\"black\" points=\"622.5,-261 389.75,-261 389.75,-193 622.5,-193 622.5,-261\"/>\n",
       "<text text-anchor=\"middle\" x=\"506.12\" y=\"-243.7\" font-family=\"Helvetica,sans-Serif\" font-size=\"14.00\">Postnummer &lt;= 3615.0</text>\n",
       "<text text-anchor=\"middle\" x=\"506.12\" y=\"-228.7\" font-family=\"Helvetica,sans-Serif\" font-size=\"14.00\">squared_error = 1933135447418.69</text>\n",
       "<text text-anchor=\"middle\" x=\"506.12\" y=\"-213.7\" font-family=\"Helvetica,sans-Serif\" font-size=\"14.00\">samples = 47708</text>\n",
       "<text text-anchor=\"middle\" x=\"506.12\" y=\"-198.7\" font-family=\"Helvetica,sans-Serif\" font-size=\"14.00\">value = 1862764.943</text>\n",
       "</g>\n",
       "<!-- 1 -->\n",
       "<g id=\"node2\" class=\"node\">\n",
       "<title>1</title>\n",
       "<polygon fill=\"#efb387\" stroke=\"black\" points=\"497.25,-157 257,-157 257,-89 497.25,-89 497.25,-157\"/>\n",
       "<text text-anchor=\"middle\" x=\"377.12\" y=\"-139.7\" font-family=\"Helvetica,sans-Serif\" font-size=\"14.00\">kvadratmeter &lt;= 102.5</text>\n",
       "<text text-anchor=\"middle\" x=\"377.12\" y=\"-124.7\" font-family=\"Helvetica,sans-Serif\" font-size=\"14.00\">squared_error = 2408769358227.045</text>\n",
       "<text text-anchor=\"middle\" x=\"377.12\" y=\"-109.7\" font-family=\"Helvetica,sans-Serif\" font-size=\"14.00\">samples = 16441</text>\n",
       "<text text-anchor=\"middle\" x=\"377.12\" y=\"-94.7\" font-family=\"Helvetica,sans-Serif\" font-size=\"14.00\">value = 2613727.119</text>\n",
       "</g>\n",
       "<!-- 0&#45;&gt;1 -->\n",
       "<g id=\"edge1\" class=\"edge\">\n",
       "<title>0-&gt;1</title>\n",
       "<path fill=\"none\" stroke=\"black\" d=\"M463.89,-192.6C452.53,-183.62 440.12,-173.81 428.33,-164.49\"/>\n",
       "<polygon fill=\"black\" stroke=\"black\" points=\"430.66,-161.87 420.65,-158.41 426.32,-167.36 430.66,-161.87\"/>\n",
       "<text text-anchor=\"middle\" x=\"422.36\" y=\"-176.5\" font-family=\"Helvetica,sans-Serif\" font-size=\"14.00\">True</text>\n",
       "</g>\n",
       "<!-- 4 -->\n",
       "<g id=\"node5\" class=\"node\">\n",
       "<title>4</title>\n",
       "<polygon fill=\"#fcf3eb\" stroke=\"black\" points=\"755.25,-157 515,-157 515,-89 755.25,-89 755.25,-157\"/>\n",
       "<text text-anchor=\"middle\" x=\"635.12\" y=\"-139.7\" font-family=\"Helvetica,sans-Serif\" font-size=\"14.00\">kvadratmeter &lt;= 144.5</text>\n",
       "<text text-anchor=\"middle\" x=\"635.12\" y=\"-124.7\" font-family=\"Helvetica,sans-Serif\" font-size=\"14.00\">squared_error = 1230571723145.023</text>\n",
       "<text text-anchor=\"middle\" x=\"635.12\" y=\"-109.7\" font-family=\"Helvetica,sans-Serif\" font-size=\"14.00\">samples = 31267</text>\n",
       "<text text-anchor=\"middle\" x=\"635.12\" y=\"-94.7\" font-family=\"Helvetica,sans-Serif\" font-size=\"14.00\">value = 1467889.543</text>\n",
       "</g>\n",
       "<!-- 0&#45;&gt;4 -->\n",
       "<g id=\"edge4\" class=\"edge\">\n",
       "<title>0-&gt;4</title>\n",
       "<path fill=\"none\" stroke=\"black\" d=\"M548.36,-192.6C559.72,-183.62 572.13,-173.81 583.92,-164.49\"/>\n",
       "<polygon fill=\"black\" stroke=\"black\" points=\"585.93,-167.36 591.6,-158.41 581.59,-161.87 585.93,-167.36\"/>\n",
       "<text text-anchor=\"middle\" x=\"589.89\" y=\"-176.5\" font-family=\"Helvetica,sans-Serif\" font-size=\"14.00\">False</text>\n",
       "</g>\n",
       "<!-- 2 -->\n",
       "<g id=\"node3\" class=\"node\">\n",
       "<title>2</title>\n",
       "<polygon fill=\"#f7dac4\" stroke=\"black\" points=\"240.25,-53 0,-53 0,0 240.25,0 240.25,-53\"/>\n",
       "<text text-anchor=\"middle\" x=\"120.12\" y=\"-35.7\" font-family=\"Helvetica,sans-Serif\" font-size=\"14.00\">squared_error = 1025097671337.218</text>\n",
       "<text text-anchor=\"middle\" x=\"120.12\" y=\"-20.7\" font-family=\"Helvetica,sans-Serif\" font-size=\"14.00\">samples = 9191</text>\n",
       "<text text-anchor=\"middle\" x=\"120.12\" y=\"-5.7\" font-family=\"Helvetica,sans-Serif\" font-size=\"14.00\">value = 1913848.948</text>\n",
       "</g>\n",
       "<!-- 1&#45;&gt;2 -->\n",
       "<g id=\"edge2\" class=\"edge\">\n",
       "<title>1-&gt;2</title>\n",
       "<path fill=\"none\" stroke=\"black\" d=\"M286.15,-88.55C258.49,-78.38 228.29,-67.27 201.31,-57.35\"/>\n",
       "<polygon fill=\"black\" stroke=\"black\" points=\"202.77,-54.16 192.18,-53.99 200.36,-60.73 202.77,-54.16\"/>\n",
       "</g>\n",
       "<!-- 3 -->\n",
       "<g id=\"node4\" class=\"node\">\n",
       "<title>3</title>\n",
       "<polygon fill=\"#e58139\" stroke=\"black\" points=\"498.25,-53 258,-53 258,0 498.25,0 498.25,-53\"/>\n",
       "<text text-anchor=\"middle\" x=\"378.12\" y=\"-35.7\" font-family=\"Helvetica,sans-Serif\" font-size=\"14.00\">squared_error = 2754697820115.461</text>\n",
       "<text text-anchor=\"middle\" x=\"378.12\" y=\"-20.7\" font-family=\"Helvetica,sans-Serif\" font-size=\"14.00\">samples = 7250</text>\n",
       "<text text-anchor=\"middle\" x=\"378.12\" y=\"-5.7\" font-family=\"Helvetica,sans-Serif\" font-size=\"14.00\">value = 3500979.57</text>\n",
       "</g>\n",
       "<!-- 1&#45;&gt;3 -->\n",
       "<g id=\"edge3\" class=\"edge\">\n",
       "<title>1-&gt;3</title>\n",
       "<path fill=\"none\" stroke=\"black\" d=\"M377.48,-88.68C377.56,-80.99 377.65,-72.76 377.73,-64.9\"/>\n",
       "<polygon fill=\"black\" stroke=\"black\" points=\"381.23,-64.94 377.83,-54.91 374.23,-64.87 381.23,-64.94\"/>\n",
       "</g>\n",
       "<!-- 5 -->\n",
       "<g id=\"node6\" class=\"node\">\n",
       "<title>5</title>\n",
       "<polygon fill=\"#ffffff\" stroke=\"black\" points=\"750.5,-53 517.75,-53 517.75,0 750.5,0 750.5,-53\"/>\n",
       "<text text-anchor=\"middle\" x=\"634.12\" y=\"-35.7\" font-family=\"Helvetica,sans-Serif\" font-size=\"14.00\">squared_error = 825298797459.194</text>\n",
       "<text text-anchor=\"middle\" x=\"634.12\" y=\"-20.7\" font-family=\"Helvetica,sans-Serif\" font-size=\"14.00\">samples = 21889</text>\n",
       "<text text-anchor=\"middle\" x=\"634.12\" y=\"-5.7\" font-family=\"Helvetica,sans-Serif\" font-size=\"14.00\">value = 1244208.376</text>\n",
       "</g>\n",
       "<!-- 4&#45;&gt;5 -->\n",
       "<g id=\"edge5\" class=\"edge\">\n",
       "<title>4-&gt;5</title>\n",
       "<path fill=\"none\" stroke=\"black\" d=\"M634.77,-88.68C634.69,-80.99 634.6,-72.76 634.52,-64.9\"/>\n",
       "<polygon fill=\"black\" stroke=\"black\" points=\"638.02,-64.87 634.42,-54.91 631.02,-64.94 638.02,-64.87\"/>\n",
       "</g>\n",
       "<!-- 6 -->\n",
       "<g id=\"node7\" class=\"node\">\n",
       "<title>6</title>\n",
       "<polygon fill=\"#f6d5be\" stroke=\"black\" points=\"1001.5,-53 768.75,-53 768.75,0 1001.5,0 1001.5,-53\"/>\n",
       "<text text-anchor=\"middle\" x=\"885.12\" y=\"-35.7\" font-family=\"Helvetica,sans-Serif\" font-size=\"14.00\">squared_error = 1787151785596.05</text>\n",
       "<text text-anchor=\"middle\" x=\"885.12\" y=\"-20.7\" font-family=\"Helvetica,sans-Serif\" font-size=\"14.00\">samples = 9378</text>\n",
       "<text text-anchor=\"middle\" x=\"885.12\" y=\"-5.7\" font-family=\"Helvetica,sans-Serif\" font-size=\"14.00\">value = 1989979.23</text>\n",
       "</g>\n",
       "<!-- 4&#45;&gt;6 -->\n",
       "<g id=\"edge6\" class=\"edge\">\n",
       "<title>4-&gt;6</title>\n",
       "<path fill=\"none\" stroke=\"black\" d=\"M723.62,-88.55C750.41,-78.42 779.65,-67.37 805.8,-57.49\"/>\n",
       "<polygon fill=\"black\" stroke=\"black\" points=\"806.88,-60.82 815,-54.01 804.41,-54.27 806.88,-60.82\"/>\n",
       "</g>\n",
       "</g>\n",
       "</svg>"
      ],
      "text/plain": [
       "<IPython.core.display.SVG object>"
      ]
     },
     "metadata": {},
     "output_type": "display_data"
    }
   ],
   "source": [
    "# Deler dataen op i det vi gerne vil lære at forudsige (truth_data) og resten (input_data)\n",
    "variabler       = data.columns\n",
    "input_variabler = variabler[(variabler != forudsig)]\n",
    "input_data      = data[input_variabler]\n",
    "truth_data      = data[forudsig]\n",
    "\n",
    "\n",
    "# Her bliver modellen trænet på data\n",
    "estimator = DecisionTreeRegressor(\n",
    "   max_depth=DT_N_lag,                        # Hvor mange lag der højest må være - Hvor mange spørgsmål må der stilles ud af en gren\n",
    "   min_samples_leaf = 20,\n",
    "   random_state=42                       # Gør at vi får det samme \"tilfældige\" træ hver gang\n",
    "   )\n",
    "estimator.fit(input_data, truth_data)   # Dette er den \"magiske\" linje - her optimerer Machine Learning algoritmen sine interne vægte til at give bedste svar\n",
    "\n",
    "# laver visuel graf af træet\n",
    "graph = Source(tree.export_graphviz(estimator, out_file=None,\n",
    "   feature_names=input_data.columns,              # Labels bliver brugt som overskrifter\n",
    "   filled=True,                       # Farver noder efter pris - højere pris, mørkere farve\n",
    "   max_depth=50))                      # Hvor mange lag den skal vise i grafen\n",
    "\n",
    "print(\"Max dybde af træet:\", estimator.get_depth()) \n",
    "display(SVG(graph.pipe(format='svg')))\n"
   ]
  },
  {
   "cell_type": "markdown",
   "id": "16b52f21",
   "metadata": {},
   "source": [
    "### Ideer til at lege rundt med koden\n",
    "\n",
    "- Inspicer træet. Forstår du/I, hvad de forskellige tal betyder?\n",
    "  Hvilken type bolig passer flest eksempler ned i, i lag 2? Hvad er algoritmens bud på deres pris (dvs. gennemsnitsprisen)?\n",
    "- Prøv at ændre på hvor mange lag der er i træet fra 2 til 3.\n",
    "  Hvilken parameter bliver brugt oftest til at opdele data? Tror du/I at den så er den vigtigste parameter?\n",
    "  Kan du/I ud fra træet sige mere generelt hvilke parametre der betyder mest for prisen? Hvilke betyder mindst?\n",
    "- Prøv at træne træet på en anden parameter ved at ændre \"forudsig\" - Er nogen parameter nemmere at forudsige end andre? Hvorfor?"
   ]
  },
  {
   "cell_type": "code",
   "execution_count": null,
   "id": "c63d3692",
   "metadata": {},
   "outputs": [],
   "source": []
  }
 ],
 "metadata": {
  "kernelspec": {
   "display_name": "MLStemAcademy",
   "language": "python",
   "name": "python3"
  },
  "language_info": {
   "codemirror_mode": {
    "name": "ipython",
    "version": 3
   },
   "file_extension": ".py",
   "mimetype": "text/x-python",
   "name": "python",
   "nbconvert_exporter": "python",
   "pygments_lexer": "ipython3",
   "version": "3.11.13"
  }
 },
 "nbformat": 4,
 "nbformat_minor": 5
}
