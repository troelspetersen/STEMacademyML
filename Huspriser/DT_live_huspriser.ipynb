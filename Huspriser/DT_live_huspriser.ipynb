{
 "cells": [
  {
   "cell_type": "markdown",
   "id": "6a13bdf2",
   "metadata": {},
   "source": [
    "# Decision trees"
   ]
  },
  {
   "cell_type": "markdown",
   "id": "b0eecc81",
   "metadata": {},
   "source": [
    "Noter til diskussion\n",
    "- skal vi lave en train split, så vi i bunden også kan vise hvor god træet er til at forudsige?\n",
    "- prøv lejlighed eller hus ud fra dør (TV, TH)\n",
    "- slå koderne sammen - lav en True/False efter hvilken type vi kører, BDT eller NN\n",
    "- lav function til at plotte så den kun kører en gang"
   ]
  },
  {
   "cell_type": "code",
   "execution_count": 16,
   "id": "cf99caa9",
   "metadata": {},
   "outputs": [],
   "source": [
    "# Importer pakker der skal bruges\n",
    "from sklearn.tree import DecisionTreeClassifier, DecisionTreeRegressor, export_graphviz\n",
    "from sklearn import tree\n",
    "from IPython.display import SVG\n",
    "from graphviz import Source\n",
    "from IPython.display import display\n",
    "import pandas as pd\n"
   ]
  },
  {
   "cell_type": "code",
   "execution_count": 17,
   "id": "bd385b08",
   "metadata": {},
   "outputs": [],
   "source": [
    "classification = True\n",
    "regression = False"
   ]
  },
  {
   "cell_type": "markdown",
   "id": "bfa65ec9",
   "metadata": {},
   "source": [
    "## Inspicer dataen\n",
    "\n",
    "Først vil vi gerne undersøge hvilken data vi har med at gøre. "
   ]
  },
  {
   "cell_type": "code",
   "execution_count": 18,
   "id": "5a702ba8",
   "metadata": {},
   "outputs": [
    {
     "data": {
      "text/html": [
       "<div>\n",
       "<style scoped>\n",
       "    .dataframe tbody tr th:only-of-type {\n",
       "        vertical-align: middle;\n",
       "    }\n",
       "\n",
       "    .dataframe tbody tr th {\n",
       "        vertical-align: top;\n",
       "    }\n",
       "\n",
       "    .dataframe thead th {\n",
       "        text-align: right;\n",
       "    }\n",
       "</style>\n",
       "<table border=\"1\" class=\"dataframe\">\n",
       "  <thead>\n",
       "    <tr style=\"text-align: right;\">\n",
       "      <th></th>\n",
       "      <th>Postnummer</th>\n",
       "      <th>Husnummer</th>\n",
       "      <th>Kvadratmeter</th>\n",
       "      <th>Grundareal</th>\n",
       "      <th>Byggeår</th>\n",
       "      <th>Afstand_skole</th>\n",
       "      <th>Afstand_supermarked</th>\n",
       "      <th>Salgspris</th>\n",
       "      <th>Type</th>\n",
       "    </tr>\n",
       "  </thead>\n",
       "  <tbody>\n",
       "    <tr>\n",
       "      <th>0</th>\n",
       "      <td>4953.0</td>\n",
       "      <td>9.0</td>\n",
       "      <td>97</td>\n",
       "      <td>949.0</td>\n",
       "      <td>1942.0</td>\n",
       "      <td>5425.42</td>\n",
       "      <td>5551.78</td>\n",
       "      <td>1050000</td>\n",
       "      <td>2</td>\n",
       "    </tr>\n",
       "    <tr>\n",
       "      <th>1</th>\n",
       "      <td>2300.0</td>\n",
       "      <td>12.0</td>\n",
       "      <td>86</td>\n",
       "      <td>0.0</td>\n",
       "      <td>2006.0</td>\n",
       "      <td>1045.23</td>\n",
       "      <td>132.97</td>\n",
       "      <td>1352500</td>\n",
       "      <td>1</td>\n",
       "    </tr>\n",
       "    <tr>\n",
       "      <th>2</th>\n",
       "      <td>2300.0</td>\n",
       "      <td>12.0</td>\n",
       "      <td>86</td>\n",
       "      <td>0.0</td>\n",
       "      <td>2006.0</td>\n",
       "      <td>1045.23</td>\n",
       "      <td>132.97</td>\n",
       "      <td>3500000</td>\n",
       "      <td>1</td>\n",
       "    </tr>\n",
       "    <tr>\n",
       "      <th>3</th>\n",
       "      <td>2300.0</td>\n",
       "      <td>16.0</td>\n",
       "      <td>95</td>\n",
       "      <td>0.0</td>\n",
       "      <td>2007.0</td>\n",
       "      <td>1017.53</td>\n",
       "      <td>153.93</td>\n",
       "      <td>3463432</td>\n",
       "      <td>1</td>\n",
       "    </tr>\n",
       "    <tr>\n",
       "      <th>4</th>\n",
       "      <td>2300.0</td>\n",
       "      <td>18.0</td>\n",
       "      <td>73</td>\n",
       "      <td>0.0</td>\n",
       "      <td>2007.0</td>\n",
       "      <td>1004.49</td>\n",
       "      <td>166.23</td>\n",
       "      <td>2700000</td>\n",
       "      <td>1</td>\n",
       "    </tr>\n",
       "  </tbody>\n",
       "</table>\n",
       "</div>"
      ],
      "text/plain": [
       "   Postnummer  Husnummer  Kvadratmeter  Grundareal  Byggeår  Afstand_skole  Afstand_supermarked  Salgspris  Type\n",
       "0      4953.0        9.0            97       949.0   1942.0        5425.42              5551.78    1050000     2\n",
       "1      2300.0       12.0            86         0.0   2006.0        1045.23               132.97    1352500     1\n",
       "2      2300.0       12.0            86         0.0   2006.0        1045.23               132.97    3500000     1\n",
       "3      2300.0       16.0            95         0.0   2007.0        1017.53               153.93    3463432     1\n",
       "4      2300.0       18.0            73         0.0   2007.0        1004.49               166.23    2700000     1"
      ]
     },
     "execution_count": 18,
     "metadata": {},
     "output_type": "execute_result"
    }
   ],
   "source": [
    "# importer data fra csv-fil (excel)\n",
    "data = pd.read_csv('HousingPrices_selected.csv', sep=',')\n",
    "data.head(5) # vis de første 5 rækker data"
   ]
  },
  {
   "cell_type": "markdown",
   "id": "92df709f",
   "metadata": {},
   "source": [
    "## Parameter"
   ]
  },
  {
   "cell_type": "code",
   "execution_count": 19,
   "id": "2c2f33eb",
   "metadata": {},
   "outputs": [],
   "source": [
    "if classification == True:\n",
    "    forudsig = 'Type'      # Hvilken parameter vi gerne vil forudsige i vores data\n",
    "\n",
    "if regression == True:\n",
    "    forudsig = 'Salgspris'\n",
    "\n",
    "DT_N_lag = 2                # Hvor mange lag der er i træet"
   ]
  },
  {
   "cell_type": "code",
   "execution_count": 20,
   "id": "be642bea",
   "metadata": {},
   "outputs": [
    {
     "name": "stdout",
     "output_type": "stream",
     "text": [
      "Max dybde af træet: 2\n"
     ]
    },
    {
     "data": {
      "image/svg+xml": [
       "<svg xmlns=\"http://www.w3.org/2000/svg\" xmlns:xlink=\"http://www.w3.org/1999/xlink\" width=\"364pt\" height=\"269pt\" viewBox=\"0.00 0.00 363.75 269.00\">\n",
       "<g id=\"graph0\" class=\"graph\" transform=\"scale(1 1) rotate(0) translate(4 265)\">\n",
       "<title>Tree</title>\n",
       "<polygon fill=\"white\" stroke=\"none\" points=\"-4,4 -4,-265 359.75,-265 359.75,4 -4,4\"/>\n",
       "<!-- 0 -->\n",
       "<g id=\"node1\" class=\"node\">\n",
       "<title>0</title>\n",
       "<polygon fill=\"#79bded\" stroke=\"black\" points=\"293.75,-261 139.75,-261 139.75,-193 293.75,-193 293.75,-261\"/>\n",
       "<text text-anchor=\"middle\" x=\"216.75\" y=\"-243.7\" font-family=\"Helvetica,sans-Serif\" font-size=\"14.00\">Grundareal &lt;= 18.0</text>\n",
       "<text text-anchor=\"middle\" x=\"216.75\" y=\"-228.7\" font-family=\"Helvetica,sans-Serif\" font-size=\"14.00\">gini = 0.368</text>\n",
       "<text text-anchor=\"middle\" x=\"216.75\" y=\"-213.7\" font-family=\"Helvetica,sans-Serif\" font-size=\"14.00\">samples = 47708</text>\n",
       "<text text-anchor=\"middle\" x=\"216.75\" y=\"-198.7\" font-family=\"Helvetica,sans-Serif\" font-size=\"14.00\">value = [11611, 36097]</text>\n",
       "</g>\n",
       "<!-- 1 -->\n",
       "<g id=\"node2\" class=\"node\">\n",
       "<title>1</title>\n",
       "<polygon fill=\"#e78d4b\" stroke=\"black\" points=\"214,-157 67.5,-157 67.5,-89 214,-89 214,-157\"/>\n",
       "<text text-anchor=\"middle\" x=\"140.75\" y=\"-139.7\" font-family=\"Helvetica,sans-Serif\" font-size=\"14.00\">Byggeår &lt;= 1976.5</text>\n",
       "<text text-anchor=\"middle\" x=\"140.75\" y=\"-124.7\" font-family=\"Helvetica,sans-Serif\" font-size=\"14.00\">gini = 0.156</text>\n",
       "<text text-anchor=\"middle\" x=\"140.75\" y=\"-109.7\" font-family=\"Helvetica,sans-Serif\" font-size=\"14.00\">samples = 12694</text>\n",
       "<text text-anchor=\"middle\" x=\"140.75\" y=\"-94.7\" font-family=\"Helvetica,sans-Serif\" font-size=\"14.00\">value = [11611, 1083]</text>\n",
       "</g>\n",
       "<!-- 0&#45;&gt;1 -->\n",
       "<g id=\"edge1\" class=\"edge\">\n",
       "<title>0-&gt;1</title>\n",
       "<path fill=\"none\" stroke=\"black\" d=\"M191.86,-192.6C185.7,-184.32 179,-175.34 172.56,-166.69\"/>\n",
       "<polygon fill=\"black\" stroke=\"black\" points=\"175.38,-164.61 166.6,-158.69 169.76,-168.8 175.38,-164.61\"/>\n",
       "<text text-anchor=\"middle\" x=\"162.08\" y=\"-176.41\" font-family=\"Helvetica,sans-Serif\" font-size=\"14.00\">True</text>\n",
       "</g>\n",
       "<!-- 4 -->\n",
       "<g id=\"node5\" class=\"node\">\n",
       "<title>4</title>\n",
       "<polygon fill=\"#399de5\" stroke=\"black\" points=\"355.75,-149.5 231.75,-149.5 231.75,-96.5 355.75,-96.5 355.75,-149.5\"/>\n",
       "<text text-anchor=\"middle\" x=\"293.75\" y=\"-132.2\" font-family=\"Helvetica,sans-Serif\" font-size=\"14.00\">gini = 0.0</text>\n",
       "<text text-anchor=\"middle\" x=\"293.75\" y=\"-117.2\" font-family=\"Helvetica,sans-Serif\" font-size=\"14.00\">samples = 35014</text>\n",
       "<text text-anchor=\"middle\" x=\"293.75\" y=\"-102.2\" font-family=\"Helvetica,sans-Serif\" font-size=\"14.00\">value = [0, 35014]</text>\n",
       "</g>\n",
       "<!-- 0&#45;&gt;4 -->\n",
       "<g id=\"edge4\" class=\"edge\">\n",
       "<title>0-&gt;4</title>\n",
       "<path fill=\"none\" stroke=\"black\" d=\"M241.96,-192.6C250.19,-181.71 259.33,-169.59 267.62,-158.61\"/>\n",
       "<polygon fill=\"black\" stroke=\"black\" points=\"270.2,-161 273.43,-150.91 264.61,-156.79 270.2,-161\"/>\n",
       "<text text-anchor=\"middle\" x=\"277.8\" y=\"-168.67\" font-family=\"Helvetica,sans-Serif\" font-size=\"14.00\">False</text>\n",
       "</g>\n",
       "<!-- 2 -->\n",
       "<g id=\"node3\" class=\"node\">\n",
       "<title>2</title>\n",
       "<polygon fill=\"#e68742\" stroke=\"black\" points=\"131.5,-53 0,-53 0,0 131.5,0 131.5,-53\"/>\n",
       "<text text-anchor=\"middle\" x=\"65.75\" y=\"-35.7\" font-family=\"Helvetica,sans-Serif\" font-size=\"14.00\">gini = 0.08</text>\n",
       "<text text-anchor=\"middle\" x=\"65.75\" y=\"-20.7\" font-family=\"Helvetica,sans-Serif\" font-size=\"14.00\">samples = 10031</text>\n",
       "<text text-anchor=\"middle\" x=\"65.75\" y=\"-5.7\" font-family=\"Helvetica,sans-Serif\" font-size=\"14.00\">value = [9610, 421]</text>\n",
       "</g>\n",
       "<!-- 1&#45;&gt;2 -->\n",
       "<g id=\"edge2\" class=\"edge\">\n",
       "<title>1-&gt;2</title>\n",
       "<path fill=\"none\" stroke=\"black\" d=\"M114.31,-88.68C107.48,-80.09 100.12,-70.81 93.25,-62.15\"/>\n",
       "<polygon fill=\"black\" stroke=\"black\" points=\"96.2,-60.24 87.24,-54.58 90.72,-64.59 96.2,-60.24\"/>\n",
       "</g>\n",
       "<!-- 3 -->\n",
       "<g id=\"node4\" class=\"node\">\n",
       "<title>3</title>\n",
       "<polygon fill=\"#eeab7b\" stroke=\"black\" points=\"281.5,-53 150,-53 150,0 281.5,0 281.5,-53\"/>\n",
       "<text text-anchor=\"middle\" x=\"215.75\" y=\"-35.7\" font-family=\"Helvetica,sans-Serif\" font-size=\"14.00\">gini = 0.374</text>\n",
       "<text text-anchor=\"middle\" x=\"215.75\" y=\"-20.7\" font-family=\"Helvetica,sans-Serif\" font-size=\"14.00\">samples = 2663</text>\n",
       "<text text-anchor=\"middle\" x=\"215.75\" y=\"-5.7\" font-family=\"Helvetica,sans-Serif\" font-size=\"14.00\">value = [2001, 662]</text>\n",
       "</g>\n",
       "<!-- 1&#45;&gt;3 -->\n",
       "<g id=\"edge3\" class=\"edge\">\n",
       "<title>1-&gt;3</title>\n",
       "<path fill=\"none\" stroke=\"black\" d=\"M167.19,-88.68C174.02,-80.09 181.38,-70.81 188.25,-62.15\"/>\n",
       "<polygon fill=\"black\" stroke=\"black\" points=\"190.78,-64.59 194.26,-54.58 185.3,-60.24 190.78,-64.59\"/>\n",
       "</g>\n",
       "</g>\n",
       "</svg>"
      ],
      "text/plain": [
       "<IPython.core.display.SVG object>"
      ]
     },
     "metadata": {},
     "output_type": "display_data"
    }
   ],
   "source": [
    "# Deler dataen op i det vi gerne vil lære at forudsige (truth_data) og resten (input_data)\n",
    "variabler       = data.columns\n",
    "input_variabler = variabler[(variabler != forudsig)]\n",
    "input_data      = data[input_variabler]\n",
    "truth_data      = data[forudsig]\n",
    "\n",
    "\n",
    "# Her bliver modellen trænet på data\n",
    "if classification == True:\n",
    "   estimator = DecisionTreeClassifier(max_depth=DT_N_lag, min_samples_leaf = 20,random_state=42)\n",
    "\n",
    "if regression == True:\n",
    "   estimator = DecisionTreeRegressor(max_depth=DT_N_lag, min_samples_leaf = 20,random_state=42)\n",
    "\n",
    "estimator.fit(input_data, truth_data)   # Dette er den \"magiske\" linje - her optimerer Machine Learning algoritmen sine interne vægte til at give bedste svar\n",
    "\n",
    "# laver visuel graf af træet\n",
    "graph = Source(tree.export_graphviz(estimator, out_file=None,\n",
    "   feature_names=input_data.columns,              # Labels bliver brugt som overskrifter\n",
    "   filled=True,                       # Farver noder efter pris - højere pris, mørkere farve\n",
    "   max_depth=50))                      # Hvor mange lag den skal vise i grafen\n",
    "\n",
    "print(\"Max dybde af træet:\", estimator.get_depth()) \n",
    "display(SVG(graph.pipe(format='svg')))\n"
   ]
  },
  {
   "cell_type": "markdown",
   "id": "16b52f21",
   "metadata": {},
   "source": [
    "### Ideer til at lege rundt med koden\n",
    "\n",
    "- Inspicer træet. Forstår du/I, hvad de forskellige tal betyder?\n",
    "  Hvilken type bolig passer flest eksempler ned i, i lag 2? Hvad er algoritmens bud på deres pris (dvs. gennemsnitsprisen)?\n",
    "- Prøv at ændre på hvor mange lag der er i træet fra 2 til 3.\n",
    "  Hvilken parameter bliver brugt oftest til at opdele data? Tror du/I at den så er den vigtigste parameter?\n",
    "  Kan du/I ud fra træet sige mere generelt hvilke parametre der betyder mest for prisen? Hvilke betyder mindst?\n",
    "- Prøv at træne træet på en anden parameter ved at ændre \"forudsig\" - Er nogen parameter nemmere at forudsige end andre? Hvorfor?"
   ]
  },
  {
   "cell_type": "code",
   "execution_count": null,
   "id": "c63d3692",
   "metadata": {},
   "outputs": [],
   "source": []
  }
 ],
 "metadata": {
  "kernelspec": {
   "display_name": "MLStemAcademy",
   "language": "python",
   "name": "python3"
  },
  "language_info": {
   "codemirror_mode": {
    "name": "ipython",
    "version": 3
   },
   "file_extension": ".py",
   "mimetype": "text/x-python",
   "name": "python",
   "nbconvert_exporter": "python",
   "pygments_lexer": "ipython3",
   "version": "3.11.13"
  }
 },
 "nbformat": 4,
 "nbformat_minor": 5
}
